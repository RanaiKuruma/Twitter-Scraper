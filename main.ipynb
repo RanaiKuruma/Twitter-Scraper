{
 "cells": [
  {
   "cell_type": "code",
   "execution_count": null,
   "metadata": {},
   "outputs": [],
   "source": [
    "from selenium import webdriver \n",
    "from selenium.webdriver.common.keys import Keys \n",
    "from bs4 import BeautifulSoup\n",
    "import pandas as pd \n",
    "import time \n"
   ]
  },
  {
   "cell_type": "code",
   "execution_count": null,
   "metadata": {},
   "outputs": [],
   "source": [
    "#Opening our selenium webdriver \n",
    "driver = webdriver.Chrome('/Users/ranaik/Downloads/chromedriver')\n",
    "driver.get('https://twitter.com/i/flow/login')\n",
    "time.sleep(3)"
   ]
  },
  {
   "cell_type": "code",
   "execution_count": null,
   "metadata": {},
   "outputs": [],
   "source": [
    "#Filling in the email \n",
    "time.sleep(2)\n",
    "email = driver.find_element('xpath', '//*[@id=\"layers\"]/div/div/div/div/div/div/div[2]/div[2]/div/div/div[2]/div[2]/div/div/div/div[5]/label/div/div[2]/div/input')\n",
    "email.send_keys('kurumaranaisupersaiyan@gmail.com')\n",
    "email.send_keys(Keys.ENTER)"
   ]
  },
  {
   "cell_type": "code",
   "execution_count": null,
   "metadata": {},
   "outputs": [],
   "source": [
    "\n",
    "#Filling in the username\n",
    "time.sleep(1)\n",
    "user_name = driver.find_element('xpath', '//*[@id=\"layers\"]/div/div/div/div/div/div/div[2]/div[2]/div/div/div[2]/div[2]/div[1]/div/div[2]/label/div/div[2]/div/input')\n",
    "user_name.send_keys('JRT_Ws')\n",
    "user_name.send_keys(Keys.ENTER)\n"
   ]
  },
  {
   "cell_type": "code",
   "execution_count": null,
   "metadata": {},
   "outputs": [],
   "source": [
    "\n",
    "#Filling in the password\n",
    "time.sleep(1)\n",
    "password = driver.find_element('xpath', '//*[@id=\"layers\"]/div/div/div/div/div/div/div[2]/div[2]/div/div/div[2]/div[2]/div[1]/div/div/div[3]/div/label/div/div[2]/div[1]/input')\n",
    "password.send_keys('Twitter_Scrapingbot')\n",
    "password.send_keys(Keys.ENTER)\n",
    "time.sleep(5)"
   ]
  },
  {
   "cell_type": "code",
   "execution_count": null,
   "metadata": {},
   "outputs": [],
   "source": [
    "#Clicking on the explore button \n",
    "explore = driver.find_element('xpath', '//*[@id=\"react-root\"]/div/div/div[2]/header/div/div/div/div[1]/div[2]/nav/a[2]').click()\n",
    "explore \n",
    "time.sleep(3)"
   ]
  },
  {
   "cell_type": "code",
   "execution_count": null,
   "metadata": {},
   "outputs": [],
   "source": [
    "#Searching our celebrity \n",
    "search_celeb = driver.find_element('xpath', '//*[@id=\"react-root\"]/div/div/div[2]/main/div/div/div/div/div/div[1]/div[1]/div[1]/div/div/div/div/div[1]/div[2]/div/div/div/form/div[1]/div/div/div/label/div[2]/div/input')\n",
    "search_celeb.send_keys('John Cena')\n",
    "search_celeb.send_keys(Keys.ENTER)\n",
    "time.sleep(2)"
   ]
  },
  {
   "cell_type": "code",
   "execution_count": null,
   "metadata": {},
   "outputs": [],
   "source": [
    "#Clicking on the people tab \n",
    "people = driver.find_element('xpath', '//*[@id=\"react-root\"]/div/div/div[2]/main/div/div/div/div/div/div[1]/div[1]/div[2]/nav/div/div[2]/div/div[3]/a').click()\n",
    "people \n",
    "time.sleep(2)"
   ]
  },
  {
   "cell_type": "code",
   "execution_count": null,
   "metadata": {},
   "outputs": [],
   "source": [
    "#Clicking on the profile \n",
    "profile = driver.find_element('xpath', '//*[@id=\"react-root\"]/div/div/div[2]/main/div/div/div/div/div/div[3]/div/section/div/div/div[1]/div/div/div/div/div[2]/div[1]/div[1]/div/div[1]/a').click()\n",
    "profile "
   ]
  },
  {
   "cell_type": "code",
   "execution_count": null,
   "metadata": {},
   "outputs": [],
   "source": [
    "#Scraping off the data \n",
    "soup = BeautifulSoup(driver.page_source, 'lxml')\n",
    "postings = soup.find_all('div', class_ = 'css-901oao r-1nao33i r-37j5jr r-a023e6 r-16dba41 r-rjixqe r-bcqeeo r-bnwqim r-qvutc0')\n",
    "tweet = []\n",
    "while True:\n",
    "    for post in postings:\n",
    "        tweet.append(post.text)\n",
    "    driver.execute_script('window.scrollTo(0,document.body.scrollHeight)')    \n",
    "    time.sleep(1)\n",
    "    #To keep up with the dissappearing tweets\n",
    "    soup = BeautifulSoup(driver.page_source, 'lxml')\n",
    "    postings = soup.find_all('div', class_ = 'css-901oao r-1nao33i r-37j5jr r-a023e6 r-16dba41 r-rjixqe r-bcqeeo r-bnwqim r-qvutc0')\n",
    "\n",
    "    tweet2 = list(set(tweet))\n",
    "    if(len(tweet) > 200):\n",
    "        break \n",
    "\n",
    "tweet2 "
   ]
  }
 ],
 "metadata": {
  "interpreter": {
   "hash": "e26836c7217fc1b5a05efa35327bcc9f5fcb70871575e2670ef5c0dec7843194"
  },
  "kernelspec": {
   "display_name": "Python 3.9.12 64-bit ('anaconda3')",
   "language": "python",
   "name": "python3"
  },
  "language_info": {
   "codemirror_mode": {
    "name": "ipython",
    "version": 3
   },
   "file_extension": ".py",
   "mimetype": "text/x-python",
   "name": "python",
   "nbconvert_exporter": "python",
   "pygments_lexer": "ipython3",
   "version": "3.9.12"
  },
  "orig_nbformat": 4
 },
 "nbformat": 4,
 "nbformat_minor": 2
}
